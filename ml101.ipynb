{
 "cells": [
  {
   "cell_type": "code",
   "execution_count": null,
   "id": "pacific-agriculture",
   "metadata": {},
   "outputs": [],
   "source": [
    "# Allow multiple displays per cell\n",
    "from IPython.core.interactiveshell import InteractiveShell\n",
    "InteractiveShell.ast_node_interactivity = \"all\""
   ]
  },
  {
   "cell_type": "code",
   "execution_count": null,
   "id": "painful-internet",
   "metadata": {},
   "outputs": [],
   "source": [
    "# !pip install matplotlib"
   ]
  },
  {
   "cell_type": "code",
   "execution_count": null,
   "id": "million-princess",
   "metadata": {},
   "outputs": [],
   "source": [
    "import math\n",
    "\n",
    "def basic_sigmoid(x):\n",
    "    s = 1/(1+math.exp(-x))\n",
    "    return s"
   ]
  },
  {
   "cell_type": "code",
   "execution_count": null,
   "id": "vietnamese-auditor",
   "metadata": {},
   "outputs": [],
   "source": [
    "basic_sigmoid(-100)"
   ]
  },
  {
   "cell_type": "code",
   "execution_count": null,
   "id": "unauthorized-cooperative",
   "metadata": {},
   "outputs": [],
   "source": [
    "-1e3\n"
   ]
  },
  {
   "cell_type": "code",
   "execution_count": null,
   "id": "scientific-revision",
   "metadata": {},
   "outputs": [],
   "source": [
    "# x = [1, 2, 3]\n",
    "# print(basic_sigmoid(x))\n",
    "#relies on the function"
   ]
  },
  {
   "cell_type": "code",
   "execution_count": null,
   "id": "urban-patrick",
   "metadata": {},
   "outputs": [],
   "source": [
    "[basic_sigmoid(x) for x in [1,4,7] ]"
   ]
  },
  {
   "cell_type": "code",
   "execution_count": null,
   "id": "several-familiar",
   "metadata": {},
   "outputs": [],
   "source": [
    "import numpy as np\n",
    "\n",
    "def sigmoid(x):\n",
    "    s = 1/(1+np.exp(-x)) \n",
    "    return s"
   ]
  },
  {
   "cell_type": "code",
   "execution_count": null,
   "id": "flexible-hearing",
   "metadata": {},
   "outputs": [],
   "source": [
    "MyVariable = np.array([3, 2, 1, 8])\n",
    "print(sigmoid(MyVariable))"
   ]
  },
  {
   "cell_type": "code",
   "execution_count": null,
   "id": "interesting-memorial",
   "metadata": {},
   "outputs": [],
   "source": []
  },
  {
   "cell_type": "code",
   "execution_count": null,
   "id": "excess-trick",
   "metadata": {},
   "outputs": [],
   "source": [
    "import pylab as plt\n",
    "\n",
    "\n",
    "values = plt.linspace(-10,10,7)\n",
    "values\n",
    "sigmoid(values)"
   ]
  },
  {
   "cell_type": "code",
   "execution_count": null,
   "id": "dimensional-concord",
   "metadata": {},
   "outputs": [],
   "source": [
    "from matplotlib import pylab\n",
    "import pylab as plt\n",
    "import numpy as np\n",
    "\n",
    "def sigmoid(x):\n",
    "    s = 1/(1+np.exp(-x))   \n",
    "    return s\n",
    "\n",
    "def sigmoid_derivative(x):\n",
    "    s = sigmoid(x)\n",
    "    ds = s*(1-s)\n",
    "    return ds\n",
    "\n",
    "# linespace generate an array from start and stop value, 100 elements\n",
    "values = plt.linspace(-10,10,100)\n",
    "\n",
    "# prepare the plot, associate the color r(ed) or b(lue) and the label \n",
    "plt.plot(values, sigmoid(values), 'r')\n",
    "plt.plot(values, sigmoid_derivative(values), 'b')\n",
    "\n",
    "# Draw the grid line in background.\n",
    "plt.grid()\n",
    "\n",
    "# Title & Subtitle\n",
    "plt.title('Sigmoid and Sigmoid derivative functions')\n",
    "\n",
    "# plt.plot(x)\n",
    "plt.xlabel('X Axis')\n",
    "plt.ylabel('Y Axis')\n",
    "\n",
    "# create the graph\n",
    "plt.show()"
   ]
  },
  {
   "cell_type": "code",
   "execution_count": null,
   "id": "competitive-polymer",
   "metadata": {},
   "outputs": [],
   "source": [
    "def our_function(x, a, b, c):\n",
    "    s = a*np.power(x, 2) + b*x + c\n",
    "    return s\n",
    "\n",
    "\n",
    "x1 = np.arange(7)\n",
    "myA= 4\n",
    "myB= 2\n",
    "myC= 1\n",
    "\n",
    "x1\n",
    "our_function(x1, myA, myB, myC)"
   ]
  },
  {
   "cell_type": "code",
   "execution_count": null,
   "id": "above-fraud",
   "metadata": {},
   "outputs": [],
   "source": [
    "def our_function(x, a, b, c):\n",
    "    s = a*np.power(x, 2) + b*x + c\n",
    "    return s\n",
    "\n",
    "\n",
    "\n",
    "# linespace generate an array from start and stop value, 100 elements\n",
    "xvalues = plt.linspace(-10,10,100)\n",
    "\n",
    "# prepare the plot, associate the color r(ed) or b(lue) and the label \n",
    "plt.plot(values, our_function(xvalues, myA, myB, myC), 'r')\n",
    "\n",
    "\n",
    "# Draw the grid line in background.\n",
    "plt.grid()\n",
    "\n",
    "# Title & Subtitle\n",
    "plt.title('Quadratic functions')\n",
    "\n",
    "# plt.plot(x)\n",
    "plt.xlabel('X Axis')\n",
    "plt.ylabel('Y Axis')\n",
    "\n",
    "# create the graph\n",
    "plt.show()"
   ]
  },
  {
   "cell_type": "code",
   "execution_count": null,
   "id": "informational-drive",
   "metadata": {},
   "outputs": [],
   "source": [
    "# linespace generate an array from start and stop value, 100 elements\n",
    "xvalues = np.arange(1,2,3)\n",
    "\n",
    "# prepare the plot, associate the color r(ed) or b(lue) and the label \n",
    "plt.plot(values, our_function(xvalues, myA, myB, myC), 'r')\n",
    "\n",
    "\n",
    "# Draw the grid line in background.\n",
    "plt.grid()\n",
    "\n",
    "# Title & Subtitle\n",
    "plt.title('Quadratic functions')\n",
    "\n",
    "# plt.plot(x)\n",
    "plt.xlabel('X Axis')\n",
    "plt.ylabel('Y Axis')\n",
    "\n",
    "# create the graph\n",
    "plt.show()"
   ]
  }
 ],
 "metadata": {
  "kernelspec": {
   "display_name": "Python 3 (ipykernel)",
   "language": "python",
   "name": "python3"
  },
  "language_info": {
   "codemirror_mode": {
    "name": "ipython",
    "version": 3
   },
   "file_extension": ".py",
   "mimetype": "text/x-python",
   "name": "python",
   "nbconvert_exporter": "python",
   "pygments_lexer": "ipython3",
   "version": "3.9.7"
  }
 },
 "nbformat": 4,
 "nbformat_minor": 5
}
